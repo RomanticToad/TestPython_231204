{
 "cells": [
  {
   "cell_type": "markdown",
   "metadata": {},
   "source": [
    "기본 변수들 할당 및 변환 기본 입력, 출력 테스트, 연습장."
   ]
  },
  {
   "cell_type": "code",
   "execution_count": 25,
   "metadata": {},
   "outputs": [
    {
     "name": "stdout",
     "output_type": "stream",
     "text": [
      "기본 출력 방식 | 이름 : 김경태 | 나이 : 30 | 키 : 180.222\n",
      "나이 :30 |키 :180.222000 |이름 :김경태\n",
      "이름 출력하기 : 김경태\n",
      "나이 출력하기 : 30\n",
      "키 출력하기 : 180.222000\n",
      "키 출력하기 : 180\n",
      "키 출력하기 : 180.222\n",
      "이름 : 김경태, 나dl: 30, 키 : 180.222\n",
      "이름 : {name}, 나dl: {age}, 키 : {height}\n"
     ]
    }
   ],
   "source": [
    "name = \"김경태\"\n",
    "age = 30\n",
    "height = 180.222\n",
    "# 기본출력 1\n",
    "print(\"기본 출력 방식\",\"| 이름 :\",name , \"| 나이 :\",age ,\"| 키 :\",height)\n",
    "\n",
    "# 기본출력 2\n",
    "print(\"나이 :%d |키 :%f |이름 :%s\" %(age,height,name))\n",
    "print(\"이름 출력하기 : %s\"%(name))\n",
    "print(\"나이 출력하기 : %d\"%(age))\n",
    "print(\"키 출력하기 : %f\"%(height))\n",
    "print(\"키 출력하기 : %d\"%(height))\n",
    "print(\"키 출력하기 : %s\"%(height))\n",
    "\n",
    "# 기본출력 3\n",
    "print(f\"이름 : {name}, 나dl: {age}, 키 : {height}\")\n",
    "print(\"이름 : {name}, 나dl: {age}, 키 : {height}\")\n",
    "# 안드로이드 버전, 코틀린 로그 출력 : Log.d(\"kkt\",\"이름 : ${name}\")"
   ]
  },
  {
   "cell_type": "code",
   "execution_count": 4,
   "metadata": {},
   "outputs": [
    {
     "name": "stdout",
     "output_type": "stream",
     "text": [
      "a의 타입의 결과 (함수 type 사용):  <class 'str'>\n",
      "b의 타입의 결과 (함수 type 사용):  <class 'int'>\n",
      "c의 타입의 결과 (함수 type 사용):  <class 'str'> | 입력된 값 :1\n",
      "c의 타입의 결과 (함수 type 사용):  <class 'int'> | 입력된 값 :2\n"
     ]
    }
   ],
   "source": [
    "# 정수, 실수, 문자열 각각 변환 및 입력받아보기\n",
    "num1 = 30\n",
    "str1 = \"kkt\"\n",
    "str2 = \"12345\"\n",
    "flo1 = 12.123\n",
    "# 정수 -> 문자열 변환\n",
    "a = str(num1)\n",
    "print(f\"a의 타입의 결과 (함수 type 사용):  {type(a)}\")\n",
    "# a의 타입의 결과 (함수 type 사용):  <class 'str'>\n",
    "\n",
    "# 문자열 -> 정수 변환\n",
    "b = int(str2)\n",
    "print(f\"b의 타입의 결과 (함수 type 사용):  {type(b)}\")\n",
    "# b의 타입의 결과 (함수 type 사용):  <class 'int'>\n",
    "\n",
    "\n",
    "# input(), 표준 입력\n",
    "# 필요시, 해당 값을 정수 등 변환해서 사용하면 됨\n",
    "c = input(\"본인이 좋아하는 숫자(1~5) 선택해주세요.\")\n",
    "print(f\"c의 타입의 결과 (함수 type 사용):  {type(c)} | 입력된 값 :{c}\")\n",
    "# c의 타입의 결과 (함수 type 사용):  <class 'str'> | 입력된 값 :1\n",
    "\n",
    "\n",
    "# input(), int로 변환\n",
    "c = int(input(\"본인이 좋아하는 숫자(1~5) 선택해주세요.\"))\n",
    "print(f\"c의 타입의 결과 (함수 type 사용):  {type(c)} | 입력된 값 :{c}\")\n",
    "# c의 타입의 결과 (함수 type 사용):  <class 'int'> | 입력된 값 :2\n"
   ]
  }
 ],
 "metadata": {
  "kernelspec": {
   "display_name": "Python 3",
   "language": "python",
   "name": "python3"
  },
  "language_info": {
   "codemirror_mode": {
    "name": "ipython",
    "version": 3
   },
   "file_extension": ".py",
   "mimetype": "text/x-python",
   "name": "python",
   "nbconvert_exporter": "python",
   "pygments_lexer": "ipython3",
   "version": "3.12.0"
  }
 },
 "nbformat": 4,
 "nbformat_minor": 2
}
