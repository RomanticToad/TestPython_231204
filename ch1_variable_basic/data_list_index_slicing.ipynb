{
 "cells": [
  {
   "cell_type": "markdown",
   "metadata": {},
   "source": [
    "리스트 인덱싱과 슬라이싱"
   ]
  },
  {
   "cell_type": "code",
   "execution_count": 21,
   "metadata": {},
   "outputs": [
    {
     "name": "stdout",
     "output_type": "stream",
     "text": [
      "리스트 출력 해보기. : [1, 2, 3, 4.5, '김경태']\n",
      "alist 의 타입. : <class 'list'>\n",
      " a 의 타입 : <class 'int'>\n",
      "인덱싱 : alist의 0번째 요소 : 1\n",
      "슬라이싱 : [0:3](3은포함이 안됨): [1, 2, 3]\n",
      "슬라이싱 : [0:3](3은포함이 안됨):  0, 1, 2 (인덱싱)\n",
      "슬라이싱 : 전체 출력 [:] :  [1, 2, 3, 4.5, '김경태']\n",
      "슬라이싱 : 전체 출력 [::] :  [1, 2, 3, 4.5, '김경태']\n",
      "슬라이싱 : 건너뛰기1 [::1] :  [1, 2, 3, 4.5, '김경태']\n",
      "슬라이싱 : 건너뛰기2 [::2] :  [1, 3, '김경태']\n",
      "슬라이싱 : 역으로 슬라이싱-1 [::-1] :  ['김경태', 4.5, 3, 2, 1]\n",
      "슬라이싱 : 역으로 슬라이싱-2 [::-2] :  ['김경태', 3, 1]\n",
      "슬라이싱 : 2부터 끝까지 [2:] :  [3, 4.5, '김경태']\n",
      "슬라이싱 : 2부터 -1(마지막요소포함안됨) [2:-1] :  [3, 4.5]\n",
      "슬라이싱 : 2부터 4(마지막요소포함안됨) [2:4] :  [3, 4.5]\n"
     ]
    }
   ],
   "source": [
    "# 리스트, 주의, 다른 형 끼리 가능.\n",
    "# 파이썬에서는 기본적으로 모든 타입이 : 객체다.\n",
    "alist = [1,2,3,4.5,\"김경태\"]\n",
    "print(f\"리스트 출력 해보기. : {alist}\")\n",
    "print(f\"alist 의 타입. : {type(alist)}\")\n",
    "\n",
    "a = 3\n",
    "print(f\" a 의 타입 : {type(a)}\")\n",
    "\n",
    "# 인덱싱, 슬라이싱 [a : b : c], a : 시작값, b: 마지막값, c : 증가값\n",
    "# b 마지막 값은 포함이 안됨\n",
    "# 리버스 인덱싱, 요소의 맨 마지막이 -1 부터 시작\n",
    "print(f\"인덱싱 : alist의 0번째 요소 : {alist[0]}\")\n",
    "\n",
    "\n",
    "# 슬라이싱 !끝번호가 들어가지 않는다. 항상 -1\n",
    "print(f\"슬라이싱 : [0:3](3은포함이 안됨): {alist[0:3]}\")\n",
    "print(f\"슬라이싱 : [0:3](3은포함이 안됨):  0, 1, 2 (인덱싱)\")\n",
    "\n",
    "print(f\"슬라이싱 : 전체 출력 [:] :  {alist[:]}\")\n",
    "print(f\"슬라이싱 : 전체 출력 [::] :  {alist[::]}\")\n",
    "print(f\"슬라이싱 : 건너뛰기1 [::1] :  {alist[::1]}\")\n",
    "print(f\"슬라이싱 : 건너뛰기2 [::2] :  {alist[::2]}\")\n",
    "print(f\"슬라이싱 : 역으로 슬라이싱-1 [::-1] :  {alist[::-1]}\")\n",
    "print(f\"슬라이싱 : 역으로 슬라이싱-2 [::-2] :  {alist[::-2]}\")\n",
    "print(f\"슬라이싱 : 2부터 끝까지 [2:] :  {alist[2:]}\")\n",
    "print(f\"슬라이싱 : 2부터 -1(마지막요소포함안됨) [2:-1] :  {alist[2:-1]}\")\n",
    "print(f\"슬라이싱 : 2부터 4(마지막요소포함안됨) [2:4] :  {alist[2:4]}\")\n",
    "\n"
   ]
  },
  {
   "cell_type": "code",
   "execution_count": 24,
   "metadata": {},
   "outputs": [
    {
     "name": "stdout",
     "output_type": "stream",
     "text": [
      "sumList 출력 : [1, 2, 3, 4.5, '김경태', 1, 2, 3, 4.5, '김경태']\n",
      "mulList 출력 : [1, 2, 3, 4.5, '김경태', 1, 2, 3, 4.5, '김경태', 1, 2, 3, 4.5, '김경태']\n",
      "alist의 요소의 값 중에 3이 있나요 ? : True\n"
     ]
    }
   ],
   "source": [
    "# 리스트 덧셈, 곱셈, in 연산자\n",
    "alist = [1,2,3,4.5,\"김경태\"]\n",
    "sumList = alist + alist\n",
    "mulList = alist * 3\n",
    "print(f\"sumList 출력 : {sumList}\")\n",
    "print(f\"mulList 출력 : {mulList}\")\n",
    "\n",
    "# in 연산자 확인\n",
    "print(f\"alist의 요소의 값 중에 3이 있나요 ? : {3 in alist}\")"
   ]
  },
  {
   "cell_type": "code",
   "execution_count": 37,
   "metadata": {},
   "outputs": [
    {
     "name": "stdout",
     "output_type": "stream",
     "text": [
      "alist 출력 : [1, 2, 3, 4.5, '김경태', '김경태2']\n",
      "blist 출력 : [1, 2, 3, 4.5, '김경태', 'a', 'b', 'c']\n",
      "alist 출력 (김경태0 추가): ['김경태0', 1, 2, 3, 4.5, '김경태', '김경태2']\n",
      "alist 출력 (김경태2 삭제): ['김경태0', 1, 2, 3, 4.5, '김경태']\n",
      "alist 출력 (김경태0 대신 덮어쓰기): ['김경태0 대신 덮어쓰기', 1, 2, 3, 4.5, '김경태']\n",
      "alist 출력 (0번인덱스 삭제): [1, 2, 3, 4.5, '김경태']\n"
     ]
    }
   ],
   "source": [
    "#  append 새로운 값을 기존 리스트 맨 끝에 추가\n",
    "alist = [1,2,3,4.5,\"김경태\"]\n",
    "alist.append(\"김경태2\")\n",
    "print(f\"alist 출력 : {alist}\")\n",
    "\n",
    "# extent 새로운 리스트를 기존 리스트에 추가\n",
    "blist = [1,2,3,4.5,\"김경태\"]\n",
    "clist = [\"a\",\"b\",\"c\"]\n",
    "blist.extend(clist)\n",
    "print(f\"blist 출력 : {blist}\")\n",
    "\n",
    "# insert , 특정 인덱스에 새로운 값을 추가\n",
    "alist.insert(0,\"김경태0\")\n",
    "print(f\"alist 출력 (김경태0 추가): {alist}\")\n",
    "\n",
    "# remove  리스트 내의 특정 값을 삭제\n",
    "alist.remove(\"김경태2\")\n",
    "print(f\"alist 출력 (김경태2 삭제): {alist}\")\n",
    "\n",
    "# 재할당 , 인덱스에 새로운 값을 덮어쓰기\n",
    "alist[0] = \"김경태0 대신 덮어쓰기\"\n",
    "print(f\"alist 출력 (김경태0 대신 덮어쓰기): {alist}\")\n",
    "\n",
    "# del 함수를 이용해서 해당 인덱스 삭제\n",
    "del alist[0]\n",
    "print(f\"alist 출력 (0번인덱스 삭제): {alist}\")\n"
   ]
  },
  {
   "cell_type": "code",
   "execution_count": 41,
   "metadata": {},
   "outputs": [
    {
     "name": "stdout",
     "output_type": "stream",
     "text": [
      "a 리스트 : [1, 2, 3],| x : 1, | y : 2, | z : 3\n"
     ]
    }
   ],
   "source": [
    "# 패킹 : 한 변수에 여러개의 데이터를 할당\n",
    "# 언패킹 : 한 변수의 데이터를 각각의 변수로 할당\n",
    "a = [1,2,3]  # 1,2,3을 변수 a에 패킹\n",
    "x,y,z = a # a에 있는 값 1,2,3을 변수 x,y,z에 언패킹\n",
    "print(f\"a 리스트 : {a},| x : {x}, | y : {y}, | z : {z}\")"
   ]
  },
  {
   "cell_type": "code",
   "execution_count": 47,
   "metadata": {},
   "outputs": [
    {
     "name": "stdout",
     "output_type": "stream",
     "text": [
      "alist와 blist 저장된 위치 주소값 비교 : False\n",
      "a와 b의  저장된 위치 주소값 비교 : False\n",
      "c와 d의  저장된 위치 주소값 비교 : True\n",
      "e와 f의  저장된 위치 주소값 비교 : True\n",
      "g와 h의  저장된 위치 주소값 비교 : True\n",
      "i와 j의  저장된 위치 주소값 비교 : False\n"
     ]
    }
   ],
   "source": [
    "# 리스트의 요소의 메모리 위치 저장소 간단히 확인\n",
    "alist = [1,2,3]\n",
    "blist = [1,2,3]\n",
    "a = 300\n",
    "b = 300\n",
    "c = 1\n",
    "d = 1\n",
    "e = 256\n",
    "f = 256\n",
    "g = -5\n",
    "h = -5\n",
    "i = 257\n",
    "j = 257\n",
    "print(f\"alist와 blist 저장된 위치 주소값 비교 : {alist is blist}\")\n",
    "print(f\"a와 b의  저장된 위치 주소값 비교 : {a is b}\")\n",
    "# -5 ~ 256까지의 정수값은 특정 메모리 주소에 저장하기 때문에 위치값이 같다.\n",
    "print(f\"c와 d의  저장된 위치 주소값 비교 : {c is d}\")\n",
    "print(f\"e와 f의  저장된 위치 주소값 비교 : {e is f}\")\n",
    "print(f\"g와 h의  저장된 위치 주소값 비교 : {g is h}\")\n",
    "# 범위 벗어나니 False\n",
    "print(f\"i와 j의  저장된 위치 주소값 비교 : {i is j}\")"
   ]
  }
 ],
 "metadata": {
  "kernelspec": {
   "display_name": "Python 3",
   "language": "python",
   "name": "python3"
  },
  "language_info": {
   "codemirror_mode": {
    "name": "ipython",
    "version": 3
   },
   "file_extension": ".py",
   "mimetype": "text/x-python",
   "name": "python",
   "nbconvert_exporter": "python",
   "pygments_lexer": "ipython3",
   "version": "3.12.0"
  }
 },
 "nbformat": 4,
 "nbformat_minor": 2
}
