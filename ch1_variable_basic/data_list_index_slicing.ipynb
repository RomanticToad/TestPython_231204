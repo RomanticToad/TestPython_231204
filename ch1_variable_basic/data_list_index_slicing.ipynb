{
 "cells": [
  {
   "cell_type": "markdown",
   "metadata": {},
   "source": [
    "리스트 인덱싱과 슬라이싱"
   ]
  },
  {
   "cell_type": "code",
   "execution_count": 21,
   "metadata": {},
   "outputs": [
    {
     "name": "stdout",
     "output_type": "stream",
     "text": [
      "리스트 출력 해보기. : [1, 2, 3, 4.5, '김경태']\n",
      "alist 의 타입. : <class 'list'>\n",
      " a 의 타입 : <class 'int'>\n",
      "인덱싱 : alist의 0번째 요소 : 1\n",
      "슬라이싱 : [0:3](3은포함이 안됨): [1, 2, 3]\n",
      "슬라이싱 : [0:3](3은포함이 안됨):  0, 1, 2 (인덱싱)\n",
      "슬라이싱 : 전체 출력 [:] :  [1, 2, 3, 4.5, '김경태']\n",
      "슬라이싱 : 전체 출력 [::] :  [1, 2, 3, 4.5, '김경태']\n",
      "슬라이싱 : 건너뛰기1 [::1] :  [1, 2, 3, 4.5, '김경태']\n",
      "슬라이싱 : 건너뛰기2 [::2] :  [1, 3, '김경태']\n",
      "슬라이싱 : 역으로 슬라이싱-1 [::-1] :  ['김경태', 4.5, 3, 2, 1]\n",
      "슬라이싱 : 역으로 슬라이싱-2 [::-2] :  ['김경태', 3, 1]\n",
      "슬라이싱 : 2부터 끝까지 [2:] :  [3, 4.5, '김경태']\n",
      "슬라이싱 : 2부터 -1(마지막요소포함안됨) [2:-1] :  [3, 4.5]\n",
      "슬라이싱 : 2부터 4(마지막요소포함안됨) [2:4] :  [3, 4.5]\n"
     ]
    }
   ],
   "source": [
    "# 리스트, 주의, 다른 형 끼리 가능.\n",
    "# 파이썬에서는 기본적으로 모든 타입이 : 객체다.\n",
    "alist = [1,2,3,4.5,\"김경태\"]\n",
    "print(f\"리스트 출력 해보기. : {alist}\")\n",
    "print(f\"alist 의 타입. : {type(alist)}\")\n",
    "\n",
    "a = 3\n",
    "print(f\" a 의 타입 : {type(a)}\")\n",
    "\n",
    "# 인덱싱, 슬라이싱 [a : b : c], a : 시작값, b: 마지막값, c : 증가값\n",
    "# b 마지막 값은 포함이 안됨\n",
    "# 리버스 인덱싱, 요소의 맨 마지막이 -1 부터 시작\n",
    "print(f\"인덱싱 : alist의 0번째 요소 : {alist[0]}\")\n",
    "\n",
    "\n",
    "# 슬라이싱 !끝번호가 들어가지 않는다. 항상 -1\n",
    "print(f\"슬라이싱 : [0:3](3은포함이 안됨): {alist[0:3]}\")\n",
    "print(f\"슬라이싱 : [0:3](3은포함이 안됨):  0, 1, 2 (인덱싱)\")\n",
    "\n",
    "print(f\"슬라이싱 : 전체 출력 [:] :  {alist[:]}\")\n",
    "print(f\"슬라이싱 : 전체 출력 [::] :  {alist[::]}\")\n",
    "print(f\"슬라이싱 : 건너뛰기1 [::1] :  {alist[::1]}\")\n",
    "print(f\"슬라이싱 : 건너뛰기2 [::2] :  {alist[::2]}\")\n",
    "print(f\"슬라이싱 : 역으로 슬라이싱-1 [::-1] :  {alist[::-1]}\")\n",
    "print(f\"슬라이싱 : 역으로 슬라이싱-2 [::-2] :  {alist[::-2]}\")\n",
    "print(f\"슬라이싱 : 2부터 끝까지 [2:] :  {alist[2:]}\")\n",
    "print(f\"슬라이싱 : 2부터 -1(마지막요소포함안됨) [2:-1] :  {alist[2:-1]}\")\n",
    "print(f\"슬라이싱 : 2부터 4(마지막요소포함안됨) [2:4] :  {alist[2:4]}\")\n",
    "\n"
   ]
  },
  {
   "cell_type": "code",
   "execution_count": 24,
   "metadata": {},
   "outputs": [
    {
     "name": "stdout",
     "output_type": "stream",
     "text": [
      "sumList 출력 : [1, 2, 3, 4.5, '김경태', 1, 2, 3, 4.5, '김경태']\n",
      "mulList 출력 : [1, 2, 3, 4.5, '김경태', 1, 2, 3, 4.5, '김경태', 1, 2, 3, 4.5, '김경태']\n",
      "alist의 요소의 값 중에 3이 있나요 ? : True\n"
     ]
    }
   ],
   "source": [
    "# 리스트 덧셈, 곱셈, in 연산자\n",
    "alist = [1,2,3,4.5,\"김경태\"]\n",
    "sumList = alist + alist\n",
    "mulList = alist * 3\n",
    "print(f\"sumList 출력 : {sumList}\")\n",
    "print(f\"mulList 출력 : {mulList}\")\n",
    "\n",
    "# in 연산자 확인\n",
    "print(f\"alist의 요소의 값 중에 3이 있나요 ? : {3 in alist}\")"
   ]
  }
 ],
 "metadata": {
  "kernelspec": {
   "display_name": "Python 3",
   "language": "python",
   "name": "python3"
  },
  "language_info": {
   "codemirror_mode": {
    "name": "ipython",
    "version": 3
   },
   "file_extension": ".py",
   "mimetype": "text/x-python",
   "name": "python",
   "nbconvert_exporter": "python",
   "pygments_lexer": "ipython3",
   "version": "3.12.0"
  }
 },
 "nbformat": 4,
 "nbformat_minor": 2
}
